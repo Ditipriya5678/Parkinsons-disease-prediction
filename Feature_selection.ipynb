{
  "nbformat": 4,
  "nbformat_minor": 0,
  "metadata": {
    "colab": {
      "provenance": [],
      "include_colab_link": true
    },
    "kernelspec": {
      "name": "python3",
      "display_name": "Python 3"
    },
    "language_info": {
      "name": "python"
    }
  },
  "cells": [
    {
      "cell_type": "markdown",
      "metadata": {
        "id": "view-in-github",
        "colab_type": "text"
      },
      "source": [
        "<a href=\"https://colab.research.google.com/github/Ditipriya5678/Parkinsons-disease-prediction/blob/main/Feature_selection.ipynb\" target=\"_parent\"><img src=\"https://colab.research.google.com/assets/colab-badge.svg\" alt=\"Open In Colab\"/></a>"
      ]
    },
    {
      "cell_type": "markdown",
      "source": [
        "Feature Selection"
      ],
      "metadata": {
        "id": "_9bIJuRpAyWc"
      }
    },
    {
      "cell_type": "code",
      "execution_count": null,
      "metadata": {
        "id": "zAlqeYIQx-hT"
      },
      "outputs": [],
      "source": [
        "import pandas as pd\n",
        "from sklearn.feature_selection import SelectKBest\n",
        "from sklearn.feature_selection import chi2"
      ]
    },
    {
      "cell_type": "code",
      "source": [
        "# Load CSV file\n",
        "data = pd.read_csv('parkinsons.csv')"
      ],
      "metadata": {
        "id": "JBDkuVH9y-Q3"
      },
      "execution_count": null,
      "outputs": []
    },
    {
      "cell_type": "code",
      "source": [
        "# Split data into input and output variables\n",
        "X = data.iloc[:, :-1]\n",
        "y = data.iloc[:, -1]"
      ],
      "metadata": {
        "id": "Nowq6Tdcy-ZC"
      },
      "execution_count": null,
      "outputs": []
    },
    {
      "cell_type": "code",
      "source": [
        "print(X.dtypes)"
      ],
      "metadata": {
        "colab": {
          "base_uri": "https://localhost:8080/"
        },
        "id": "mpiN2Y6rzw57",
        "outputId": "ea1abb7a-d3e0-4b0c-9afa-fa2758a1450a"
      },
      "execution_count": null,
      "outputs": [
        {
          "output_type": "stream",
          "name": "stdout",
          "text": [
            "name                 object\n",
            "MDVP:Fo(Hz)         float64\n",
            "MDVP:Fhi(Hz)        float64\n",
            "MDVP:Flo(Hz)        float64\n",
            "MDVP:Jitter(%)      float64\n",
            "MDVP:Jitter(Abs)    float64\n",
            "MDVP:RAP            float64\n",
            "MDVP:PPQ            float64\n",
            "Jitter:DDP          float64\n",
            "MDVP:Shimmer        float64\n",
            "MDVP:Shimmer(dB)    float64\n",
            "Shimmer:APQ3        float64\n",
            "Shimmer:APQ5        float64\n",
            "MDVP:APQ            float64\n",
            "Shimmer:DDA         float64\n",
            "NHR                 float64\n",
            "HNR                 float64\n",
            "RPDE                float64\n",
            "DFA                 float64\n",
            "spread1             float64\n",
            "spread2             float64\n",
            "D2                  float64\n",
            "PPE                 float64\n",
            "dtype: object\n"
          ]
        }
      ]
    },
    {
      "cell_type": "code",
      "source": [
        "from sklearn.preprocessing import LabelEncoder\n",
        "\n",
        "# Create a LabelEncoder object\n",
        "le = LabelEncoder()\n",
        "\n",
        "# Encode categorical variables in the input data\n",
        "for col in X.columns:\n",
        "    if X[col].dtype == 'object':\n",
        "        X[col] = le.fit_transform(X[col])"
      ],
      "metadata": {
        "id": "TH99ewSd-qHK"
      },
      "execution_count": null,
      "outputs": []
    },
    {
      "cell_type": "code",
      "source": [
        "# make all values in X non-negative\n",
        "X = X.abs()"
      ],
      "metadata": {
        "id": "6XqP6oSiAab5"
      },
      "execution_count": null,
      "outputs": []
    },
    {
      "cell_type": "code",
      "source": [
        "# Apply SelectKBest class to extract top 10 best features\n",
        "best_features = SelectKBest(score_func=chi2, k=10)\n",
        "fit = best_features.fit(X, y)"
      ],
      "metadata": {
        "id": "MK1G3La-y-am"
      },
      "execution_count": null,
      "outputs": []
    },
    {
      "cell_type": "code",
      "source": [
        "# Summarize scores and print top 10 features\n",
        "dfscores = pd.DataFrame(fit.scores_)\n",
        "dfcolumns = pd.DataFrame(X.columns)\n",
        "feature_scores = pd.concat([dfcolumns, dfscores], axis=1)\n",
        "feature_scores.columns = ['Features', 'Score']\n",
        "print(feature_scores.nlargest(10, 'Score'))"
      ],
      "metadata": {
        "id": "IIfMVpdDy-d_",
        "colab": {
          "base_uri": "https://localhost:8080/"
        },
        "outputId": "d9dae1a1-57f9-4fc2-d943-a5320037d76e"
      },
      "execution_count": null,
      "outputs": [
        {
          "output_type": "stream",
          "name": "stdout",
          "text": [
            "            Features       Score\n",
            "3       MDVP:Flo(Hz)  456.626628\n",
            "1        MDVP:Fo(Hz)  316.985398\n",
            "2       MDVP:Fhi(Hz)  227.402656\n",
            "0               name  178.712392\n",
            "16               HNR   22.691579\n",
            "19           spread1   12.941473\n",
            "10  MDVP:Shimmer(dB)    3.210348\n",
            "22               PPE    2.151107\n",
            "21                D2    1.381600\n",
            "20           spread2    1.232614\n"
          ]
        }
      ]
    }
  ]
}