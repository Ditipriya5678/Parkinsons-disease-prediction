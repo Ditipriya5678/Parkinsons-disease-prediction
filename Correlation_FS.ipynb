{
  "nbformat": 4,
  "nbformat_minor": 0,
  "metadata": {
    "colab": {
      "provenance": [],
      "include_colab_link": true
    },
    "kernelspec": {
      "name": "python3",
      "display_name": "Python 3"
    },
    "language_info": {
      "name": "python"
    }
  },
  "cells": [
    {
      "cell_type": "markdown",
      "metadata": {
        "id": "view-in-github",
        "colab_type": "text"
      },
      "source": [
        "<a href=\"https://colab.research.google.com/github/Ditipriya5678/Parkinsons-disease-prediction/blob/main/Correlation_FS.ipynb\" target=\"_parent\"><img src=\"https://colab.research.google.com/assets/colab-badge.svg\" alt=\"Open In Colab\"/></a>"
      ]
    },
    {
      "cell_type": "markdown",
      "source": [
        "Correlation based Feature Selection"
      ],
      "metadata": {
        "id": "OXC242kaccPT"
      }
    },
    {
      "cell_type": "code",
      "source": [
        "import pandas as pd\n",
        "\n",
        "# Load CSV file\n",
        "data = pd.read_csv('parkinsons.csv')\n",
        "\n",
        "# Compute the correlation matrix\n",
        "corr_matrix = data.corr()\n",
        "\n",
        "# Create a mask for selecting highly correlated features\n",
        "mask = corr_matrix.abs() >= 0.5\n",
        "\n",
        "# Exclude diagonal elements from the mask\n",
        "mask.values[[i for i in range(mask.shape[0])], [i for i in range(mask.shape[0])]] = False\n",
        "\n",
        "# Get the names of highly correlated features\n",
        "highly_correlated = set()\n",
        "for i in range(mask.shape[1]):\n",
        "    for j in range(i):\n",
        "        if mask.iloc[i, j]:\n",
        "            colname = corr_matrix.columns[i]\n",
        "            highly_correlated.add(colname)\n",
        "\n",
        "# Output the selected features\n",
        "selected_features = list(set(data.columns) - highly_correlated)\n",
        "print(\"Selected Features: \")\n",
        "print(selected_features)\n"
      ],
      "metadata": {
        "colab": {
          "base_uri": "https://localhost:8080/"
        },
        "id": "RvMQ5cCUtlkR",
        "outputId": "a2adacb3-fc15-4d0e-ed41-2cb9d35d2f39"
      },
      "execution_count": null,
      "outputs": [
        {
          "output_type": "stream",
          "name": "stdout",
          "text": [
            "Selected Features: \n",
            "['DFA', 'name', 'MDVP:Fhi(Hz)', 'MDVP:Fo(Hz)', 'MDVP:Jitter(%)']\n"
          ]
        }
      ]
    },
    {
      "cell_type": "code",
      "source": [],
      "metadata": {
        "id": "TmNOl3v15BHH"
      },
      "execution_count": null,
      "outputs": []
    },
    {
      "cell_type": "code",
      "source": [
        "import pandas as pd\n",
        "from sklearn.model_selection import train_test_split\n",
        "from sklearn.linear_model import LogisticRegression\n",
        "from sklearn.metrics import f1_score, accuracy_score, precision_score, recall_score\n",
        "from sklearn.feature_selection import SelectKBest, f_classif\n",
        "\n",
        "# Load the data from the CSV file\n",
        "data = pd.read_csv('parkinsons.csv')\n",
        "\n",
        "X = data.iloc[:, :-1]\n",
        "y = data.iloc[:, -1]"
      ],
      "metadata": {
        "id": "6dv0XnmVUW-w"
      },
      "execution_count": null,
      "outputs": []
    },
    {
      "cell_type": "code",
      "source": [
        "from sklearn.preprocessing import LabelEncoder\n",
        "\n",
        "# Create a LabelEncoder object\n",
        "le = LabelEncoder()\n",
        "\n",
        "# Encode categorical variables in the input data\n",
        "for col in X.columns:\n",
        "    if X[col].dtype == 'object':\n",
        "        X[col] = le.fit_transform(X[col])"
      ],
      "metadata": {
        "id": "KEfaIodDc8_L"
      },
      "execution_count": null,
      "outputs": []
    },
    {
      "cell_type": "code",
      "source": [
        "# make all values in X non-negative\n",
        "X = X.abs()"
      ],
      "metadata": {
        "id": "gg_2DISZc9EG"
      },
      "execution_count": null,
      "outputs": []
    },
    {
      "cell_type": "code",
      "source": [
        "# Split the data into training and testing sets\n",
        "X_train, X_test, y_train, y_test = train_test_split(X, y, test_size=0.2, random_state=42)\n",
        "\n",
        "# Perform feature selection using correlation-based technique\n",
        "selector = SelectKBest(f_classif, k=5)\n",
        "X_train = selector.fit_transform(X_train, y_train)\n",
        "X_test = selector.transform(X_test)"
      ],
      "metadata": {
        "id": "YNO3_Mh9c9O3"
      },
      "execution_count": null,
      "outputs": []
    },
    {
      "cell_type": "code",
      "source": [
        "# Train a logistic regression classifier on the selected features using the training set\n",
        "clf = LogisticRegression(solver='lbfgs')\n",
        "clf.fit(X_train, y_train)\n",
        "\n",
        "# Predict the labels of the testing set\n",
        "y_pred = clf.predict(X_test)\n",
        "\n",
        "# Evaluate the performance of the classifier using F1 score, accuracy, precision, and recall\n",
        "f1 = f1_score(y_test, y_pred)\n",
        "accuracy = accuracy_score(y_test, y_pred)\n",
        "precision = precision_score(y_test, y_pred)\n",
        "recall = recall_score(y_test, y_pred)\n",
        "\n",
        "# Print evaluation metrics\n",
        "print('Accuracy:', accuracy)\n",
        "print('Precision:', precision)\n",
        "print('Recall:', recall)\n",
        "print('F1 Score:', f1)\n"
      ],
      "metadata": {
        "colab": {
          "base_uri": "https://localhost:8080/"
        },
        "id": "cZAENosSUXB-",
        "outputId": "20695e6c-45df-48c7-8976-42a9053fc848"
      },
      "execution_count": null,
      "outputs": [
        {
          "output_type": "stream",
          "name": "stdout",
          "text": [
            "Accuracy: 0.9230769230769231\n",
            "Precision: 0.9142857142857143\n",
            "Recall: 1.0\n",
            "F1 Score: 0.955223880597015\n"
          ]
        }
      ]
    },
    {
      "cell_type": "code",
      "source": [],
      "metadata": {
        "id": "I__6QuYhUXFO"
      },
      "execution_count": null,
      "outputs": []
    },
    {
      "cell_type": "code",
      "source": [],
      "metadata": {
        "id": "PdCVd26HUXHa"
      },
      "execution_count": null,
      "outputs": []
    },
    {
      "cell_type": "code",
      "source": [],
      "metadata": {
        "id": "Z-8RceB9UXJg"
      },
      "execution_count": null,
      "outputs": []
    }
  ]
}