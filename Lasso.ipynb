{
  "nbformat": 4,
  "nbformat_minor": 0,
  "metadata": {
    "colab": {
      "provenance": [],
      "include_colab_link": true
    },
    "kernelspec": {
      "name": "python3",
      "display_name": "Python 3"
    },
    "language_info": {
      "name": "python"
    }
  },
  "cells": [
    {
      "cell_type": "markdown",
      "metadata": {
        "id": "view-in-github",
        "colab_type": "text"
      },
      "source": [
        "<a href=\"https://colab.research.google.com/github/Ditipriya5678/Parkinsons-disease-prediction/blob/main/Lasso.ipynb\" target=\"_parent\"><img src=\"https://colab.research.google.com/assets/colab-badge.svg\" alt=\"Open In Colab\"/></a>"
      ]
    },
    {
      "cell_type": "markdown",
      "source": [
        "Lasso Regularisation"
      ],
      "metadata": {
        "id": "KR1g0y2SYLjs"
      }
    },
    {
      "cell_type": "code",
      "source": [
        "import pandas as pd\n",
        "from sklearn.preprocessing import StandardScaler\n",
        "from sklearn.linear_model import LassoCV\n",
        "\n",
        "# Load CSV file\n",
        "data = pd.read_csv('parkinsons.csv')\n",
        "\n",
        "# Convert categorical features to numerical features using one-hot encoding\n",
        "data = pd.get_dummies(data)\n",
        "\n",
        "# Split data into input and output variables\n",
        "X = data.drop('status', axis=1)\n",
        "y = data['status']\n",
        "\n",
        "# Standardize the input data\n",
        "scaler = StandardScaler()\n",
        "X_std = scaler.fit_transform(X)\n",
        "\n",
        "# Create a Lasso model\n",
        "lasso = LassoCV(cv=5, random_state=42)\n",
        "lasso.fit(X_std, y)\n",
        "\n",
        "# Get the selected feature coefficients\n",
        "feature_coef = pd.Series(lasso.coef_, index=X.columns)\n",
        "\n",
        "# Get the selected features (features with non-zero coefficients)\n",
        "selected_features = feature_coef[feature_coef != 0].index.tolist()\n",
        "\n",
        "# Output the selected feature names\n",
        "print(\"Selected Features: \")\n",
        "print(selected_features)\n"
      ],
      "metadata": {
        "colab": {
          "base_uri": "https://localhost:8080/"
        },
        "id": "wSoE6NjAYluP",
        "outputId": "9ad6cd44-cf54-455f-fd27-635b366731c6"
      },
      "execution_count": null,
      "outputs": [
        {
          "output_type": "stream",
          "name": "stdout",
          "text": [
            "Selected Features: \n",
            "['MDVP:Fo(Hz)', 'MDVP:Flo(Hz)', 'DFA', 'spread1', 'spread2', 'D2', 'name_phon_R01_S13_1', 'name_phon_R01_S13_2', 'name_phon_R01_S13_3', 'name_phon_R01_S13_4', 'name_phon_R01_S13_6', 'name_phon_R01_S42_4', 'name_phon_R01_S43_1', 'name_phon_R01_S43_2', 'name_phon_R01_S43_3', 'name_phon_R01_S43_4', 'name_phon_R01_S43_5', 'name_phon_R01_S43_6', 'name_phon_R01_S49_1', 'name_phon_R01_S49_2', 'name_phon_R01_S49_3', 'name_phon_R01_S49_4', 'name_phon_R01_S49_5', 'name_phon_R01_S49_6', 'name_phon_R01_S50_3', 'name_phon_R01_S50_6']\n"
          ]
        }
      ]
    },
    {
      "cell_type": "markdown",
      "source": [
        "Model Evaluation\n",
        "\n",
        "\n",
        "Accuracy Score"
      ],
      "metadata": {
        "id": "6AIQ_IIW04pF"
      }
    },
    {
      "cell_type": "code",
      "source": [
        "import pandas as pd\n",
        "from sklearn.model_selection import train_test_split\n",
        "from sklearn.linear_model import Lasso\n",
        "from sklearn.metrics import accuracy_score, precision_score, recall_score, f1_score\n",
        "\n",
        "# Load data from CSV file\n",
        "df = pd.read_csv('parkinsons.csv')\n",
        "\n",
        "X = df.iloc[:, :-1]\n",
        "y = df.iloc[:, -1]"
      ],
      "metadata": {
        "id": "XsUF_Eac03rP"
      },
      "execution_count": null,
      "outputs": []
    },
    {
      "cell_type": "code",
      "source": [
        "from sklearn.preprocessing import LabelEncoder\n",
        "\n",
        "# Create a LabelEncoder object\n",
        "le = LabelEncoder()\n",
        "\n",
        "# Encode categorical variables in the input data\n",
        "for col in X.columns:\n",
        "    if X[col].dtype == 'object':\n",
        "        X[col] = le.fit_transform(X[col])"
      ],
      "metadata": {
        "id": "6gNAbiaP03uX"
      },
      "execution_count": null,
      "outputs": []
    },
    {
      "cell_type": "code",
      "source": [
        "# make all values in X non-negative\n",
        "X = X.abs()"
      ],
      "metadata": {
        "id": "MX6JaHP-03xH"
      },
      "execution_count": null,
      "outputs": []
    },
    {
      "cell_type": "code",
      "source": [
        "# Split data into training and testing sets\n",
        "X_train, X_test, y_train, y_test = train_test_split(X, y, test_size=0.2, random_state=42)\n",
        "\n",
        "# Define the Lasso model for feature selection\n",
        "model = Lasso(alpha=0.1)\n",
        "\n",
        "# Fit the Lasso model on the training data\n",
        "model.fit(X_train, y_train)\n",
        "\n",
        "# Extract the selected features\n",
        "selected_features = X_train.columns[model.coef_ != 0]\n",
        "\n",
        "# Print the selected features\n",
        "print(selected_features)"
      ],
      "metadata": {
        "colab": {
          "base_uri": "https://localhost:8080/"
        },
        "id": "WTaB8S4k03za",
        "outputId": "3aa55e0f-07c4-4fef-b512-ed42d38d4e4e"
      },
      "execution_count": null,
      "outputs": [
        {
          "output_type": "stream",
          "name": "stdout",
          "text": [
            "Index(['name', 'MDVP:Fo(Hz)', 'MDVP:Fhi(Hz)', 'MDVP:Flo(Hz)', 'HNR'], dtype='object')\n"
          ]
        }
      ]
    },
    {
      "cell_type": "code",
      "source": [
        "from sklearn.linear_model import LogisticRegression\n",
        "\n",
        "# Train a logistic regression classifier on the selected features using the training set\n",
        "clf = LogisticRegression(solver='lbfgs')\n",
        "clf.fit(X_train[selected_features], y_train)\n",
        "\n",
        "# Predict the labels of the testing set\n",
        "y_pred = clf.predict(X_test[selected_features])\n",
        "\n",
        "# Calculate evaluation metrics\n",
        "accuracy = accuracy_score(y_test, y_pred)\n",
        "precision = precision_score(y_test, y_pred)\n",
        "recall = recall_score(y_test, y_pred)\n",
        "f1 = f1_score(y_test, y_pred)\n",
        "\n",
        "# Print evaluation metrics\n",
        "print('Accuracy:', accuracy)\n",
        "print('Precision:', precision)\n",
        "print('Recall:', recall)\n",
        "print('F1 Score:', f1)"
      ],
      "metadata": {
        "colab": {
          "base_uri": "https://localhost:8080/"
        },
        "id": "ELBxT_iF032O",
        "outputId": "3674eb41-cf74-4d0a-c960-ba8da10ed014"
      },
      "execution_count": null,
      "outputs": [
        {
          "output_type": "stream",
          "name": "stdout",
          "text": [
            "Accuracy: 0.7435897435897436\n",
            "Precision: 0.8666666666666667\n",
            "Recall: 0.8125\n",
            "F1 Score: 0.8387096774193549\n"
          ]
        }
      ]
    },
    {
      "cell_type": "code",
      "source": [],
      "metadata": {
        "id": "hcX_6NZx036A"
      },
      "execution_count": null,
      "outputs": []
    }
  ]
}