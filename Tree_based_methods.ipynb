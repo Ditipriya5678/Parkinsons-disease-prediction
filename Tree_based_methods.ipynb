{
  "nbformat": 4,
  "nbformat_minor": 0,
  "metadata": {
    "colab": {
      "provenance": [],
      "include_colab_link": true
    },
    "kernelspec": {
      "name": "python3",
      "display_name": "Python 3"
    },
    "language_info": {
      "name": "python"
    }
  },
  "cells": [
    {
      "cell_type": "markdown",
      "metadata": {
        "id": "view-in-github",
        "colab_type": "text"
      },
      "source": [
        "<a href=\"https://colab.research.google.com/github/Ditipriya5678/Parkinsons-disease-prediction/blob/main/Tree_based_methods.ipynb\" target=\"_parent\"><img src=\"https://colab.research.google.com/assets/colab-badge.svg\" alt=\"Open In Colab\"/></a>"
      ]
    },
    {
      "cell_type": "markdown",
      "source": [
        "Tree Based Methods"
      ],
      "metadata": {
        "id": "qO6wucP1UG11"
      }
    },
    {
      "cell_type": "code",
      "source": [
        "import pandas as pd\n",
        "from sklearn.ensemble import RandomForestClassifier\n",
        "from sklearn.feature_selection import SelectFromModel\n",
        "\n",
        "# Load CSV file\n",
        "data = pd.read_csv('parkinsons.csv')\n",
        "\n",
        "# Convert categorical features to numerical features using one-hot encoding\n",
        "data = pd.get_dummies(data)\n",
        "\n",
        "# Split data into input and output variables\n",
        "X = data.drop('status', axis=1)\n",
        "y = data['status']\n",
        "\n",
        "# Fit a random forest classifier to select the top 5 features\n",
        "rfc = RandomForestClassifier(n_estimators=100, random_state=42)\n",
        "selector = SelectFromModel(rfc, max_features=5)\n",
        "selector.fit(X, y)\n",
        "\n",
        "# Get the selected feature indices\n",
        "selected_feature_indices = selector.get_support(indices=True)\n",
        "\n",
        "# Get the names of the selected features\n",
        "selected_feature_names = list(X.columns[selected_feature_indices])\n",
        "\n",
        "# Output the selected feature names\n",
        "print(\"Selected Features: \")\n",
        "print(selected_feature_names)\n"
      ],
      "metadata": {
        "colab": {
          "base_uri": "https://localhost:8080/"
        },
        "id": "antv8_NhYzJZ",
        "outputId": "06cc8de0-f391-4272-c674-63e87a986ee7"
      },
      "execution_count": null,
      "outputs": [
        {
          "output_type": "stream",
          "name": "stdout",
          "text": [
            "Selected Features: \n",
            "['MDVP:Fo(Hz)', 'MDVP:Flo(Hz)', 'spread1', 'spread2', 'PPE']\n"
          ]
        }
      ]
    },
    {
      "cell_type": "markdown",
      "source": [
        "Accuracy Score"
      ],
      "metadata": {
        "id": "uzFWdGUZTZGA"
      }
    },
    {
      "cell_type": "code",
      "source": [
        "# Import necessary libraries\n",
        "import pandas as pd\n",
        "from sklearn.model_selection import train_test_split\n",
        "from sklearn.ensemble import ExtraTreesClassifier\n",
        "from sklearn.metrics import accuracy_score, precision_score, recall_score, f1_score\n",
        "\n",
        "# Load data from CSV file\n",
        "df = pd.read_csv('parkinsons.csv')\n",
        "\n",
        "# Split data into features and target variable\n",
        "X = df.iloc[:, :-1]\n",
        "y = df.iloc[:, -1]"
      ],
      "metadata": {
        "id": "f3qHz8mERmh1"
      },
      "execution_count": null,
      "outputs": []
    },
    {
      "cell_type": "code",
      "source": [
        "from sklearn.preprocessing import LabelEncoder\n",
        "\n",
        "# Create a LabelEncoder object\n",
        "le = LabelEncoder()\n",
        "\n",
        "# Encode categorical variables in the input data\n",
        "for col in X.columns:\n",
        "    if X[col].dtype == 'object':\n",
        "        X[col] = le.fit_transform(X[col])"
      ],
      "metadata": {
        "id": "PwDa_TYnRmmL"
      },
      "execution_count": null,
      "outputs": []
    },
    {
      "cell_type": "code",
      "source": [
        "# make all values in X non-negative\n",
        "X = X.abs()"
      ],
      "metadata": {
        "id": "wF8eXL2nS6Yd"
      },
      "execution_count": null,
      "outputs": []
    },
    {
      "cell_type": "code",
      "source": [
        "# Split data into training and testing sets\n",
        "X_train, X_test, y_train, y_test = train_test_split(X, y, test_size=0.2, random_state=42)\n",
        "\n",
        "# Define the ExtraTreesClassifier model for feature selection\n",
        "model = ExtraTreesClassifier(n_estimators=100, random_state=42)\n",
        "\n",
        "# Fit the ExtraTreesClassifier model on the training data\n",
        "model.fit(X_train, y_train)\n",
        "\n",
        "# Extract the feature importance scores\n",
        "feature_importances = model.feature_importances_\n",
        "\n",
        "# Get the indices of the top k features (k=5 in this example)\n",
        "top_k_idx = feature_importances.argsort()[::-1][:5]\n",
        "\n",
        "# Extract the top k features\n",
        "selected_features = X_train.columns[top_k_idx]\n",
        "\n",
        "# Print the selected features\n",
        "print(selected_features)"
      ],
      "metadata": {
        "id": "7HdVqY1CS6aC",
        "colab": {
          "base_uri": "https://localhost:8080/"
        },
        "outputId": "2f69e7ca-bf08-42c2-a3b7-46e76e426a27"
      },
      "execution_count": null,
      "outputs": [
        {
          "output_type": "stream",
          "name": "stdout",
          "text": [
            "Index(['MDVP:Fo(Hz)', 'spread1', 'MDVP:Flo(Hz)', 'name', 'PPE'], dtype='object')\n"
          ]
        }
      ]
    },
    {
      "cell_type": "code",
      "source": [
        "from sklearn.linear_model import LogisticRegression\n",
        "\n",
        "# Train a logistic regression classifier on the selected features using the training set\n",
        "clf = LogisticRegression(solver='lbfgs')\n",
        "clf.fit(X_train[selected_features], y_train)\n",
        "\n",
        "# Predict the labels of the testing set\n",
        "y_pred = clf.predict(X_test[selected_features])\n",
        "\n",
        "# Calculate evaluation metrics\n",
        "accuracy = accuracy_score(y_test, y_pred)\n",
        "precision = precision_score(y_test, y_pred)\n",
        "recall = recall_score(y_test, y_pred)\n",
        "f1 = f1_score(y_test, y_pred)\n",
        "\n",
        "# Print evaluation metrics\n",
        "print('Accuracy:', accuracy)\n",
        "print('Precision:', precision)\n",
        "print('Recall:', recall)\n",
        "print('F1 Score:', f1)"
      ],
      "metadata": {
        "id": "msx7FeVCS6dt",
        "colab": {
          "base_uri": "https://localhost:8080/"
        },
        "outputId": "02952a35-5564-468d-ec9e-beab32fb19a6"
      },
      "execution_count": null,
      "outputs": [
        {
          "output_type": "stream",
          "name": "stdout",
          "text": [
            "Accuracy: 0.8974358974358975\n",
            "Precision: 0.9117647058823529\n",
            "Recall: 0.96875\n",
            "F1 Score: 0.9393939393939394\n"
          ]
        }
      ]
    },
    {
      "cell_type": "code",
      "source": [],
      "metadata": {
        "id": "rZKmYgjuS6uf"
      },
      "execution_count": null,
      "outputs": []
    }
  ]
}