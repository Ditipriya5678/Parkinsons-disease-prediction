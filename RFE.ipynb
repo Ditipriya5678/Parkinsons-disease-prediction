{
  "nbformat": 4,
  "nbformat_minor": 0,
  "metadata": {
    "colab": {
      "provenance": [],
      "include_colab_link": true
    },
    "kernelspec": {
      "name": "python3",
      "display_name": "Python 3"
    },
    "language_info": {
      "name": "python"
    }
  },
  "cells": [
    {
      "cell_type": "markdown",
      "metadata": {
        "id": "view-in-github",
        "colab_type": "text"
      },
      "source": [
        "<a href=\"https://colab.research.google.com/github/Ditipriya5678/Parkinsons-disease-prediction/blob/main/RFE.ipynb\" target=\"_parent\"><img src=\"https://colab.research.google.com/assets/colab-badge.svg\" alt=\"Open In Colab\"/></a>"
      ]
    },
    {
      "cell_type": "markdown",
      "source": [
        "Performing Recursive Feature Elimination"
      ],
      "metadata": {
        "id": "hlPPCtbrVpxz"
      }
    },
    {
      "cell_type": "code",
      "source": [
        "import pandas as pd\n",
        "from sklearn.feature_selection import RFE\n",
        "from sklearn.ensemble import RandomForestClassifier\n",
        "\n",
        "from sklearn.model_selection import train_test_split\n",
        "from sklearn.svm import SVC\n",
        "from sklearn.metrics import accuracy_score, precision_score, recall_score, f1_score\n",
        "\n",
        "# Load the dataset\n",
        "data = pd.read_csv('parkinsons.csv')\n",
        "\n",
        "# Split the dataset into input features and output target\n",
        "X = data.drop('status', axis=1)\n",
        "y = data['status']\n",
        "\n",
        "from sklearn.preprocessing import LabelEncoder\n",
        "\n",
        "# Create a LabelEncoder object\n",
        "le = LabelEncoder()\n",
        "\n",
        "# Encode categorical variables in the input data\n",
        "for col in X.columns:\n",
        "    if X[col].dtype == 'object':\n",
        "        X[col] = le.fit_transform(X[col])\n",
        "\n",
        "\n",
        "# Create a random forest classifier\n",
        "rfc = RandomForestClassifier(n_estimators=100)\n",
        "\n",
        "# Use RFE to select top 5 features\n",
        "rfe = RFE(estimator=rfc, n_features_to_select=5)\n",
        "fit = rfe.fit(X, y)\n",
        "\n",
        "# Print the top 5 features\n",
        "print(\"Top 5 features:\", X.columns[fit.support_])\n"
      ],
      "metadata": {
        "colab": {
          "base_uri": "https://localhost:8080/"
        },
        "id": "SMMgkMVUWSq3",
        "outputId": "0b2b6f67-8d2c-4cc4-dc7b-04fecd4bd5c2"
      },
      "execution_count": null,
      "outputs": [
        {
          "output_type": "stream",
          "name": "stdout",
          "text": [
            "Top 5 features: Index(['name', 'MDVP:Fo(Hz)', 'MDVP:Flo(Hz)', 'spread1', 'PPE'], dtype='object')\n"
          ]
        }
      ]
    },
    {
      "cell_type": "markdown",
      "source": [
        "Model Evaluation\n",
        "\n",
        "Accuracy Score"
      ],
      "metadata": {
        "id": "L1GsdhOnx7a8"
      }
    },
    {
      "cell_type": "code",
      "source": [
        "# Split data into features and target variable\n",
        "X1 = data.iloc[:, :-1]\n",
        "y1 = data.iloc[:, -1]"
      ],
      "metadata": {
        "id": "vaMFmMGCx6aW"
      },
      "execution_count": null,
      "outputs": []
    },
    {
      "cell_type": "code",
      "source": [
        "from sklearn.preprocessing import LabelEncoder\n",
        "\n",
        "# Create a LabelEncoder object\n",
        "le = LabelEncoder()\n",
        "\n",
        "# Encode categorical variables in the input data\n",
        "for col in X1.columns:\n",
        "    if X1[col].dtype == 'object':\n",
        "        X1[col] = le.fit_transform(X1[col])"
      ],
      "metadata": {
        "id": "od5OuE--x6gT"
      },
      "execution_count": null,
      "outputs": []
    },
    {
      "cell_type": "code",
      "source": [
        "# make all values in X non-negative\n",
        "X1 = X1.abs()"
      ],
      "metadata": {
        "id": "6yCvRuIL0Hm1"
      },
      "execution_count": null,
      "outputs": []
    },
    {
      "cell_type": "code",
      "source": [
        "# Split data into training and testing sets\n",
        "X_train, X_test, y_train, y_test = train_test_split(X1, y1, test_size=0.2, random_state=42)\n",
        "\n",
        "# Define the model for feature selection\n",
        "model = SVC(kernel='linear')\n",
        "\n",
        "# Define the RFE feature selection object with 5 features\n",
        "rfe = RFE(model, n_features_to_select=5)\n",
        "\n",
        "# Fit the RFE object on the training data\n",
        "rfe.fit(X_train, y_train)\n",
        "\n",
        "# Extract the selected features\n",
        "selected_features = X_train.columns[rfe.support_]\n",
        "\n",
        "# Print the selected features\n",
        "print(selected_features)"
      ],
      "metadata": {
        "colab": {
          "base_uri": "https://localhost:8080/"
        },
        "id": "0_sZg7yxx6iN",
        "outputId": "c1b7c450-5358-4b53-a43b-015814a54e17"
      },
      "execution_count": null,
      "outputs": [
        {
          "output_type": "stream",
          "name": "stdout",
          "text": [
            "Index(['RPDE', 'DFA', 'spread1', 'spread2', 'D2'], dtype='object')\n"
          ]
        }
      ]
    },
    {
      "cell_type": "code",
      "source": [
        "# Train an SVM classifier on the selected features using the training set\n",
        "clf = SVC(kernel='linear')\n",
        "clf.fit(X_train[selected_features], y_train)\n",
        "\n",
        "# Predict the labels of the testing set\n",
        "y_pred = clf.predict(X_test[selected_features])\n",
        "\n",
        "# Calculate evaluation metrics\n",
        "accuracy = accuracy_score(y_test, y_pred)\n",
        "precision = precision_score(y_test, y_pred)\n",
        "recall = recall_score(y_test, y_pred)\n",
        "f1 = f1_score(y_test, y_pred)\n",
        "\n",
        "# Print evaluation metrics\n",
        "print('Accuracy:', accuracy)\n",
        "print('Precision:', precision)\n",
        "print('Recall:', recall)\n",
        "print('F1 Score:', f1)"
      ],
      "metadata": {
        "colab": {
          "base_uri": "https://localhost:8080/"
        },
        "id": "py7ujhW0x6mJ",
        "outputId": "bcea3ed5-caf7-4e7d-8781-e2cf60660cb3"
      },
      "execution_count": null,
      "outputs": [
        {
          "output_type": "stream",
          "name": "stdout",
          "text": [
            "Accuracy: 0.8974358974358975\n",
            "Precision: 0.8888888888888888\n",
            "Recall: 1.0\n",
            "F1 Score: 0.9411764705882353\n"
          ]
        }
      ]
    }
  ]
}